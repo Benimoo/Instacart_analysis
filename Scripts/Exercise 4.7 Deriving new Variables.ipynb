{
 "cells": [
  {
   "cell_type": "markdown",
   "id": "702e4813",
   "metadata": {},
   "source": [
    "# Content\n",
    "\n",
    "* 1. Import Libraries\n",
    "\n",
    "* 2. Creating user Defined Functions\n",
    "\n",
    "* 3. Set working Path\n",
    "\n",
    "* 4. Import Data\n",
    "    * 4.1 Create Subset\n",
    "\n",
    "* 5. IF-statement\n",
    "    * 5.1 If-else statement\n",
    "    * 5.2 If-statement with .loc() function\n",
    "    \n",
    "* 6. Apply on the entire dataframe\n",
    "    * 6.1 F-Loop function\n",
    "    \n",
    "* 7. Exercise 4.7\n",
    "    * 7.1 Task 2\n",
    "    * 7.2 Task 3: Check the values of new column for accuracy\n",
    "    * 7.3 Task 4: Find busiest day of the week\n",
    "    * 7.4 Task 5: Print Frequency of column 'busiest_period_pf_day'\n",
    "    \n",
    "* 8 Export\n"
   ]
  },
  {
   "cell_type": "code",
   "execution_count": 1,
   "id": "626a84ad",
   "metadata": {},
   "outputs": [],
   "source": [
    "#import the libraries\n",
    "import pandas as pd\n",
    "import numpy as np\n",
    "import os"
   ]
  },
  {
   "cell_type": "markdown",
   "id": "62104a42",
   "metadata": {},
   "source": [
    "# How to create user defined functions"
   ]
  },
  {
   "cell_type": "code",
   "execution_count": 2,
   "id": "d0705f86",
   "metadata": {},
   "outputs": [],
   "source": [
    "# Define a function\n",
    "def add_num(x,y):\n",
    "    sum=x+y\n",
    "    return sum"
   ]
  },
  {
   "cell_type": "code",
   "execution_count": 3,
   "id": "a4a58278",
   "metadata": {},
   "outputs": [
    {
     "data": {
      "text/plain": [
       "20"
      ]
     },
     "execution_count": 3,
     "metadata": {},
     "output_type": "execute_result"
    }
   ],
   "source": [
    "#run the function above\n",
    "add_num(9,11)"
   ]
  },
  {
   "cell_type": "markdown",
   "id": "59138ec0",
   "metadata": {},
   "source": [
    "# 3. Set work Path"
   ]
  },
  {
   "cell_type": "code",
   "execution_count": 2,
   "id": "a6ffba18",
   "metadata": {},
   "outputs": [],
   "source": [
    "# set path for work\n",
    "path= r'/Users/phongsathorn/Documents/Data Analytics/CareerFoundry/Achievement 4 - Python/InstaCart/Instacart Business Analysis'"
   ]
  },
  {
   "cell_type": "markdown",
   "id": "560795b5",
   "metadata": {},
   "source": [
    "# 4. Import Data"
   ]
  },
  {
   "cell_type": "code",
   "execution_count": 3,
   "id": "62634350",
   "metadata": {},
   "outputs": [],
   "source": [
    "# import ords_prods_merge file\n",
    "df=pd.read_pickle(os.path.join(path,'02 Data','Prepared Data','ords_prods_merge.pkl'))"
   ]
  },
  {
   "cell_type": "markdown",
   "id": "1c9c8080",
   "metadata": {},
   "source": [
    "## 4.1 Create Subset"
   ]
  },
  {
   "cell_type": "code",
   "execution_count": 5,
   "id": "196b4d29",
   "metadata": {},
   "outputs": [],
   "source": [
    "# Create a subset of the df, because the dataframe is too big\n",
    "# the first one million rows in the dataframe.\n",
    "df=df[:1000000]"
   ]
  },
  {
   "cell_type": "code",
   "execution_count": 6,
   "id": "9691932a",
   "metadata": {},
   "outputs": [
    {
     "data": {
      "text/html": [
       "<div>\n",
       "<style scoped>\n",
       "    .dataframe tbody tr th:only-of-type {\n",
       "        vertical-align: middle;\n",
       "    }\n",
       "\n",
       "    .dataframe tbody tr th {\n",
       "        vertical-align: top;\n",
       "    }\n",
       "\n",
       "    .dataframe thead th {\n",
       "        text-align: right;\n",
       "    }\n",
       "</style>\n",
       "<table border=\"1\" class=\"dataframe\">\n",
       "  <thead>\n",
       "    <tr style=\"text-align: right;\">\n",
       "      <th></th>\n",
       "      <th>order_id</th>\n",
       "      <th>user_id</th>\n",
       "      <th>order_number</th>\n",
       "      <th>orders_day_of_week</th>\n",
       "      <th>time_of_day</th>\n",
       "      <th>days_since_previous_order</th>\n",
       "      <th>product_id</th>\n",
       "      <th>add_to_cart_order</th>\n",
       "      <th>reordered</th>\n",
       "      <th>product_name</th>\n",
       "      <th>aisle_id</th>\n",
       "      <th>department_id</th>\n",
       "      <th>prices</th>\n",
       "      <th>_merge</th>\n",
       "    </tr>\n",
       "  </thead>\n",
       "  <tbody>\n",
       "    <tr>\n",
       "      <th>0</th>\n",
       "      <td>2539329</td>\n",
       "      <td>1</td>\n",
       "      <td>1</td>\n",
       "      <td>2</td>\n",
       "      <td>8</td>\n",
       "      <td>NaN</td>\n",
       "      <td>196</td>\n",
       "      <td>1</td>\n",
       "      <td>0</td>\n",
       "      <td>Soda</td>\n",
       "      <td>77</td>\n",
       "      <td>7</td>\n",
       "      <td>9.0</td>\n",
       "      <td>both</td>\n",
       "    </tr>\n",
       "    <tr>\n",
       "      <th>1</th>\n",
       "      <td>2398795</td>\n",
       "      <td>1</td>\n",
       "      <td>2</td>\n",
       "      <td>3</td>\n",
       "      <td>7</td>\n",
       "      <td>15.0</td>\n",
       "      <td>196</td>\n",
       "      <td>1</td>\n",
       "      <td>1</td>\n",
       "      <td>Soda</td>\n",
       "      <td>77</td>\n",
       "      <td>7</td>\n",
       "      <td>9.0</td>\n",
       "      <td>both</td>\n",
       "    </tr>\n",
       "    <tr>\n",
       "      <th>2</th>\n",
       "      <td>473747</td>\n",
       "      <td>1</td>\n",
       "      <td>3</td>\n",
       "      <td>3</td>\n",
       "      <td>12</td>\n",
       "      <td>21.0</td>\n",
       "      <td>196</td>\n",
       "      <td>1</td>\n",
       "      <td>1</td>\n",
       "      <td>Soda</td>\n",
       "      <td>77</td>\n",
       "      <td>7</td>\n",
       "      <td>9.0</td>\n",
       "      <td>both</td>\n",
       "    </tr>\n",
       "    <tr>\n",
       "      <th>3</th>\n",
       "      <td>2254736</td>\n",
       "      <td>1</td>\n",
       "      <td>4</td>\n",
       "      <td>4</td>\n",
       "      <td>7</td>\n",
       "      <td>29.0</td>\n",
       "      <td>196</td>\n",
       "      <td>1</td>\n",
       "      <td>1</td>\n",
       "      <td>Soda</td>\n",
       "      <td>77</td>\n",
       "      <td>7</td>\n",
       "      <td>9.0</td>\n",
       "      <td>both</td>\n",
       "    </tr>\n",
       "    <tr>\n",
       "      <th>4</th>\n",
       "      <td>431534</td>\n",
       "      <td>1</td>\n",
       "      <td>5</td>\n",
       "      <td>4</td>\n",
       "      <td>15</td>\n",
       "      <td>28.0</td>\n",
       "      <td>196</td>\n",
       "      <td>1</td>\n",
       "      <td>1</td>\n",
       "      <td>Soda</td>\n",
       "      <td>77</td>\n",
       "      <td>7</td>\n",
       "      <td>9.0</td>\n",
       "      <td>both</td>\n",
       "    </tr>\n",
       "  </tbody>\n",
       "</table>\n",
       "</div>"
      ],
      "text/plain": [
       "   order_id  user_id  order_number  orders_day_of_week  time_of_day  \\\n",
       "0   2539329        1             1                   2            8   \n",
       "1   2398795        1             2                   3            7   \n",
       "2    473747        1             3                   3           12   \n",
       "3   2254736        1             4                   4            7   \n",
       "4    431534        1             5                   4           15   \n",
       "\n",
       "   days_since_previous_order  product_id  add_to_cart_order  reordered  \\\n",
       "0                        NaN         196                  1          0   \n",
       "1                       15.0         196                  1          1   \n",
       "2                       21.0         196                  1          1   \n",
       "3                       29.0         196                  1          1   \n",
       "4                       28.0         196                  1          1   \n",
       "\n",
       "  product_name  aisle_id  department_id  prices _merge  \n",
       "0         Soda        77              7     9.0   both  \n",
       "1         Soda        77              7     9.0   both  \n",
       "2         Soda        77              7     9.0   both  \n",
       "3         Soda        77              7     9.0   both  \n",
       "4         Soda        77              7     9.0   both  "
      ]
     },
     "execution_count": 6,
     "metadata": {},
     "output_type": "execute_result"
    }
   ],
   "source": [
    "# see the dataframe .head()\n",
    "df.head()"
   ]
  },
  {
   "cell_type": "markdown",
   "id": "06088f68",
   "metadata": {},
   "source": [
    "The goal is to create function with the following condition:\n",
    "\n",
    "1.\n",
    "If the item’s price is lower than or equal to $5, it will be labeled a “low-range product.”\n",
    "\n",
    "2.\n",
    "If the item’s price is above $5 but lower than or equal to $15, it will be labeled a “mid-range product.”\n",
    "\n",
    "3.\n",
    "If the item’s price is above $15, it will be labeled a “high-range product.”"
   ]
  },
  {
   "cell_type": "markdown",
   "id": "99daf808",
   "metadata": {},
   "source": [
    "# 5. If-statements"
   ]
  },
  {
   "cell_type": "markdown",
   "id": "172fd431",
   "metadata": {},
   "source": [
    "## 5.1 IF-Else statement"
   ]
  },
  {
   "cell_type": "code",
   "execution_count": 8,
   "id": "d79fad65",
   "metadata": {},
   "outputs": [],
   "source": [
    "# create the IF statement that fulfills all 3 conditions\n",
    "# Define a flage 'price_label'\n",
    "\n",
    "def price_label(row):\n",
    "\n",
    "  if row['prices'] <= 5:\n",
    "    return 'Low-range product'\n",
    "  elif (row['prices'] > 5) and (row['prices'] <= 15):\n",
    "    return 'Mid-range product'\n",
    "  elif row['prices'] > 15:\n",
    "    return 'High range'\n",
    "  else: return 'Not enough data'"
   ]
  },
  {
   "cell_type": "code",
   "execution_count": 9,
   "id": "4f011b00",
   "metadata": {},
   "outputs": [
    {
     "ename": "IndentationError",
     "evalue": "expected an indented block after function definition on line 1 (2841084887.py, line 3)",
     "output_type": "error",
     "traceback": [
      "\u001b[0;36m  Cell \u001b[0;32mIn[9], line 3\u001b[0;36m\u001b[0m\n\u001b[0;31m    price = float(row['prices'])\u001b[0m\n\u001b[0m    ^\u001b[0m\n\u001b[0;31mIndentationError\u001b[0m\u001b[0;31m:\u001b[0m expected an indented block after function definition on line 1\n"
     ]
    }
   ],
   "source": [
    "def price_label(row):\n",
    "# Attempt to convert the price to a float, if it fails, it means the data is not a valid number\n",
    "price = float(row['prices'])\n",
    "except (ValueError, TypeError):\n",
    "return 'Not enough data'\n",
    "\n",
    "# After successfully converting to float, we proceed with comparison\n",
    "if price <= 5:\n",
    "return 'Low-range product'\n",
    "elif price <= 15:\n",
    "return 'Mid-range product'\n",
    "else: # This covers any price above 15\n",
    "return 'High-range product'"
   ]
  },
  {
   "cell_type": "code",
   "execution_count": 9,
   "id": "1e7ea545",
   "metadata": {},
   "outputs": [],
   "source": [
    "# Use the function\n",
    "# Creating a new column of 'price_range' in df, that will contain all the price labels from the previous\n",
    "#function using the IF statement\n",
    "\n",
    "df['price_range'] = df.apply(price_label, axis=1)"
   ]
  },
  {
   "cell_type": "code",
   "execution_count": 10,
   "id": "4def57d2",
   "metadata": {},
   "outputs": [
    {
     "data": {
      "text/plain": [
       "price_range\n",
       "Mid-range product    756450\n",
       "Low-range product    243550\n",
       "Name: count, dtype: int64"
      ]
     },
     "execution_count": 10,
     "metadata": {},
     "output_type": "execute_result"
    }
   ],
   "source": [
    "# count values in the new column of 'price_range'\n",
    "df['price_range'].value_counts()"
   ]
  },
  {
   "cell_type": "markdown",
   "id": "a845b10f",
   "metadata": {},
   "source": [
    "**The missing \"High-range products\" means that, within this subset of 1 mio products, no products are higher than 15$.**"
   ]
  },
  {
   "cell_type": "code",
   "execution_count": 11,
   "id": "63bec9e3",
   "metadata": {},
   "outputs": [
    {
     "data": {
      "text/plain": [
       "14.8"
      ]
     },
     "execution_count": 11,
     "metadata": {},
     "output_type": "execute_result"
    }
   ],
   "source": [
    "# Finding out the max. price in the subset\n",
    "df['prices'].max()"
   ]
  },
  {
   "cell_type": "markdown",
   "id": "c3a7b9af",
   "metadata": {},
   "source": [
    "## 5.2 If statement with loc() function"
   ]
  },
  {
   "cell_type": "markdown",
   "id": "c07121e8",
   "metadata": {},
   "source": [
    "**Using the loc() function, it is also possible to get the same results as IF-statments**. \n",
    "\n",
    "You can translate the loc() function into this:\n",
    "\n",
    "If  =   df.loc[df['column name'] < 15,\n",
    "\n",
    "\n",
    "Then =  'new column name that contains the results'] = 'High-range product'"
   ]
  },
  {
   "cell_type": "code",
   "execution_count": 12,
   "id": "10794e95",
   "metadata": {},
   "outputs": [],
   "source": [
    "df.loc[df['prices'] > 15, 'price_range_loc'] = 'High-range product'"
   ]
  },
  {
   "cell_type": "code",
   "execution_count": 13,
   "id": "83a5cc09",
   "metadata": {},
   "outputs": [],
   "source": [
    "df.loc[(df['prices'] <= 15) & (df['prices'] > 5), 'price_range_loc'] =     'Mid-range product' "
   ]
  },
  {
   "cell_type": "code",
   "execution_count": 14,
   "id": "4745760e",
   "metadata": {},
   "outputs": [],
   "source": [
    "df.loc[df['prices'] <= 5, 'price_range_loc'] = 'Low-range product'"
   ]
  },
  {
   "cell_type": "code",
   "execution_count": 15,
   "id": "f30fe57f",
   "metadata": {},
   "outputs": [
    {
     "data": {
      "text/plain": [
       "price_range_loc\n",
       "Mid-range product    756450\n",
       "Low-range product    243550\n",
       "Name: count, dtype: int64"
      ]
     },
     "execution_count": 15,
     "metadata": {},
     "output_type": "execute_result"
    }
   ],
   "source": [
    "# Count the values of the loc() function\n",
    "df['price_range_loc'].value_counts()"
   ]
  },
  {
   "cell_type": "markdown",
   "id": "33075285",
   "metadata": {},
   "source": [
    "# 6. Repeat the same step with the entire dataframe and not only the subset"
   ]
  },
  {
   "cell_type": "code",
   "execution_count": 16,
   "id": "761a2151",
   "metadata": {},
   "outputs": [],
   "source": [
    "# import ords_prods_merge file\n",
    "ords_prods_merge=pd.read_pickle(os.path.join(path,'02 Data','Prepared Data','ords_prods_merge.pkl'))"
   ]
  },
  {
   "cell_type": "code",
   "execution_count": 17,
   "id": "8becf37b",
   "metadata": {},
   "outputs": [],
   "source": [
    "ords_prods_merge.loc[ords_prods_merge['prices'] > 15, 'price_range_loc'] = 'High-range product'"
   ]
  },
  {
   "cell_type": "code",
   "execution_count": 18,
   "id": "3dd03f0d",
   "metadata": {},
   "outputs": [],
   "source": [
    "ords_prods_merge.loc[(ords_prods_merge['prices'] <= 15) & (ords_prods_merge['prices'] > 5), 'price_range_loc'] ='Mid-range product' "
   ]
  },
  {
   "cell_type": "code",
   "execution_count": 19,
   "id": "695e9b7d",
   "metadata": {},
   "outputs": [],
   "source": [
    "ords_prods_merge.loc[ords_prods_merge['prices']<=5, 'price_range_loc']= 'Low-range products'"
   ]
  },
  {
   "cell_type": "code",
   "execution_count": 20,
   "id": "5a2713d4",
   "metadata": {},
   "outputs": [
    {
     "data": {
      "text/plain": [
       "price_range_loc\n",
       "Mid-range product     21860860\n",
       "Low-range products    10126321\n",
       "High-range product      417678\n",
       "Name: count, dtype: int64"
      ]
     },
     "execution_count": 20,
     "metadata": {},
     "output_type": "execute_result"
    }
   ],
   "source": [
    "ords_prods_merge['price_range_loc'].value_counts()"
   ]
  },
  {
   "cell_type": "markdown",
   "id": "2e7cfb62",
   "metadata": {},
   "source": [
    "# 6.1 F-LOOP function"
   ]
  },
  {
   "cell_type": "markdown",
   "id": "300ae44e",
   "metadata": {},
   "source": [
    "Using the instaChart dataframe, You’ll create a new column in your ords_prods_merge dataframe that summarizes how busy each day of the week is."
   ]
  },
  {
   "cell_type": "code",
   "execution_count": 21,
   "id": "f3ad5f09",
   "metadata": {},
   "outputs": [
    {
     "data": {
      "text/plain": [
       "orders_day_of_week\n",
       "0    6204182\n",
       "1    5660230\n",
       "6    4496490\n",
       "2    4213830\n",
       "5    4205791\n",
       "3    3840534\n",
       "4    3783802\n",
       "Name: count, dtype: int64"
      ]
     },
     "execution_count": 21,
     "metadata": {},
     "output_type": "execute_result"
    }
   ],
   "source": [
    "#First steps:Know on which day most orders take place\n",
    "ords_prods_merge['orders_day_of_week'].value_counts()"
   ]
  },
  {
   "cell_type": "markdown",
   "id": "e19de3d6",
   "metadata": {},
   "source": [
    "It seems like that the day with the most orders is #0 which is a Saturday. The least orders is during day#4, which is a Wednesday.\n",
    "\n",
    "We can create a new column now in the dataframe and assign the respective days with 'busiest day', 'least_busiest_day' or 'regular_busy'.\n",
    "\n",
    "Using loop with IF structure!!\n",
    "\n",
    "The loop will run through every row in the “orders_day_of_week” column, compare its value with what you know are the busiest and slowest days, and assign it the corresponding string value."
   ]
  },
  {
   "cell_type": "code",
   "execution_count": 22,
   "id": "d263319b",
   "metadata": {},
   "outputs": [],
   "source": [
    "# Creating the code for for-loop\n",
    "\n",
    "result = []\n",
    "\n",
    "for value in ords_prods_merge[\"orders_day_of_week\"]:\n",
    "  if value == 0:\n",
    "    result.append(\"Busiest day\")\n",
    "  elif value == 4:\n",
    "    result.append(\"Least busy\")\n",
    "  else:\n",
    "    result.append(\"Regularly busy\")"
   ]
  },
  {
   "cell_type": "code",
   "execution_count": 23,
   "id": "8b215c18",
   "metadata": {},
   "outputs": [],
   "source": [
    "# Now use the list of 'result' as a new column in the dataframe\n",
    "ords_prods_merge['busiest_day']=result"
   ]
  },
  {
   "cell_type": "code",
   "execution_count": 24,
   "id": "20af9736",
   "metadata": {},
   "outputs": [],
   "source": [
    "# print the frequency of this new column and cross-check it with the frequency of “orders_day_of_week”\n"
   ]
  },
  {
   "cell_type": "code",
   "execution_count": 25,
   "id": "f781c2ff",
   "metadata": {},
   "outputs": [
    {
     "data": {
      "text/plain": [
       "busiest_day\n",
       "Regularly busy    22416875\n",
       "Busiest day        6204182\n",
       "Least busy         3783802\n",
       "Name: count, dtype: int64"
      ]
     },
     "execution_count": 25,
     "metadata": {},
     "output_type": "execute_result"
    }
   ],
   "source": [
    "ords_prods_merge['busiest_day'].value_counts(dropna=False)"
   ]
  },
  {
   "cell_type": "markdown",
   "id": "4be59086",
   "metadata": {},
   "source": [
    "**Result:** The output shows how many sales occur on each different type of day"
   ]
  },
  {
   "cell_type": "markdown",
   "id": "50f0ca33",
   "metadata": {},
   "source": [
    "# 7 Exercise 4.7"
   ]
  },
  {
   "cell_type": "markdown",
   "id": "a09a01d1",
   "metadata": {},
   "source": [
    "## 7.1 Task 2"
   ]
  },
  {
   "cell_type": "markdown",
   "id": "f6904ccc",
   "metadata": {},
   "source": [
    "Create a new collumn that contains 'Busies days' for the 2 most busiest days, and 'Slowest days' for the 2 least busiest day"
   ]
  },
  {
   "cell_type": "code",
   "execution_count": 26,
   "id": "c0a27564",
   "metadata": {},
   "outputs": [
    {
     "data": {
      "text/html": [
       "<div>\n",
       "<style scoped>\n",
       "    .dataframe tbody tr th:only-of-type {\n",
       "        vertical-align: middle;\n",
       "    }\n",
       "\n",
       "    .dataframe tbody tr th {\n",
       "        vertical-align: top;\n",
       "    }\n",
       "\n",
       "    .dataframe thead th {\n",
       "        text-align: right;\n",
       "    }\n",
       "</style>\n",
       "<table border=\"1\" class=\"dataframe\">\n",
       "  <thead>\n",
       "    <tr style=\"text-align: right;\">\n",
       "      <th></th>\n",
       "      <th>order_id</th>\n",
       "      <th>user_id</th>\n",
       "      <th>order_number</th>\n",
       "      <th>orders_day_of_week</th>\n",
       "      <th>time_of_day</th>\n",
       "      <th>days_since_previous_order</th>\n",
       "      <th>product_id</th>\n",
       "      <th>add_to_cart_order</th>\n",
       "      <th>reordered</th>\n",
       "      <th>product_name</th>\n",
       "      <th>aisle_id</th>\n",
       "      <th>department_id</th>\n",
       "      <th>prices</th>\n",
       "      <th>_merge</th>\n",
       "      <th>price_range_loc</th>\n",
       "      <th>busiest_day</th>\n",
       "    </tr>\n",
       "  </thead>\n",
       "  <tbody>\n",
       "    <tr>\n",
       "      <th>0</th>\n",
       "      <td>2539329</td>\n",
       "      <td>1</td>\n",
       "      <td>1</td>\n",
       "      <td>2</td>\n",
       "      <td>8</td>\n",
       "      <td>NaN</td>\n",
       "      <td>196</td>\n",
       "      <td>1</td>\n",
       "      <td>0</td>\n",
       "      <td>Soda</td>\n",
       "      <td>77</td>\n",
       "      <td>7</td>\n",
       "      <td>9.0</td>\n",
       "      <td>both</td>\n",
       "      <td>Mid-range product</td>\n",
       "      <td>Regularly busy</td>\n",
       "    </tr>\n",
       "    <tr>\n",
       "      <th>1</th>\n",
       "      <td>2398795</td>\n",
       "      <td>1</td>\n",
       "      <td>2</td>\n",
       "      <td>3</td>\n",
       "      <td>7</td>\n",
       "      <td>15.0</td>\n",
       "      <td>196</td>\n",
       "      <td>1</td>\n",
       "      <td>1</td>\n",
       "      <td>Soda</td>\n",
       "      <td>77</td>\n",
       "      <td>7</td>\n",
       "      <td>9.0</td>\n",
       "      <td>both</td>\n",
       "      <td>Mid-range product</td>\n",
       "      <td>Regularly busy</td>\n",
       "    </tr>\n",
       "    <tr>\n",
       "      <th>2</th>\n",
       "      <td>473747</td>\n",
       "      <td>1</td>\n",
       "      <td>3</td>\n",
       "      <td>3</td>\n",
       "      <td>12</td>\n",
       "      <td>21.0</td>\n",
       "      <td>196</td>\n",
       "      <td>1</td>\n",
       "      <td>1</td>\n",
       "      <td>Soda</td>\n",
       "      <td>77</td>\n",
       "      <td>7</td>\n",
       "      <td>9.0</td>\n",
       "      <td>both</td>\n",
       "      <td>Mid-range product</td>\n",
       "      <td>Regularly busy</td>\n",
       "    </tr>\n",
       "    <tr>\n",
       "      <th>3</th>\n",
       "      <td>2254736</td>\n",
       "      <td>1</td>\n",
       "      <td>4</td>\n",
       "      <td>4</td>\n",
       "      <td>7</td>\n",
       "      <td>29.0</td>\n",
       "      <td>196</td>\n",
       "      <td>1</td>\n",
       "      <td>1</td>\n",
       "      <td>Soda</td>\n",
       "      <td>77</td>\n",
       "      <td>7</td>\n",
       "      <td>9.0</td>\n",
       "      <td>both</td>\n",
       "      <td>Mid-range product</td>\n",
       "      <td>Least busy</td>\n",
       "    </tr>\n",
       "    <tr>\n",
       "      <th>4</th>\n",
       "      <td>431534</td>\n",
       "      <td>1</td>\n",
       "      <td>5</td>\n",
       "      <td>4</td>\n",
       "      <td>15</td>\n",
       "      <td>28.0</td>\n",
       "      <td>196</td>\n",
       "      <td>1</td>\n",
       "      <td>1</td>\n",
       "      <td>Soda</td>\n",
       "      <td>77</td>\n",
       "      <td>7</td>\n",
       "      <td>9.0</td>\n",
       "      <td>both</td>\n",
       "      <td>Mid-range product</td>\n",
       "      <td>Least busy</td>\n",
       "    </tr>\n",
       "  </tbody>\n",
       "</table>\n",
       "</div>"
      ],
      "text/plain": [
       "   order_id  user_id  order_number  orders_day_of_week  time_of_day  \\\n",
       "0   2539329        1             1                   2            8   \n",
       "1   2398795        1             2                   3            7   \n",
       "2    473747        1             3                   3           12   \n",
       "3   2254736        1             4                   4            7   \n",
       "4    431534        1             5                   4           15   \n",
       "\n",
       "   days_since_previous_order  product_id  add_to_cart_order  reordered  \\\n",
       "0                        NaN         196                  1          0   \n",
       "1                       15.0         196                  1          1   \n",
       "2                       21.0         196                  1          1   \n",
       "3                       29.0         196                  1          1   \n",
       "4                       28.0         196                  1          1   \n",
       "\n",
       "  product_name  aisle_id  department_id  prices _merge    price_range_loc  \\\n",
       "0         Soda        77              7     9.0   both  Mid-range product   \n",
       "1         Soda        77              7     9.0   both  Mid-range product   \n",
       "2         Soda        77              7     9.0   both  Mid-range product   \n",
       "3         Soda        77              7     9.0   both  Mid-range product   \n",
       "4         Soda        77              7     9.0   both  Mid-range product   \n",
       "\n",
       "      busiest_day  \n",
       "0  Regularly busy  \n",
       "1  Regularly busy  \n",
       "2  Regularly busy  \n",
       "3      Least busy  \n",
       "4      Least busy  "
      ]
     },
     "execution_count": 26,
     "metadata": {},
     "output_type": "execute_result"
    }
   ],
   "source": [
    "# Check for .head()\n",
    "ords_prods_merge.head()"
   ]
  },
  {
   "cell_type": "code",
   "execution_count": 27,
   "id": "46228b7b",
   "metadata": {},
   "outputs": [],
   "source": [
    "# Creating the code for for-loop\n",
    "\n",
    "result = []\n",
    "\n",
    "\n",
    "for value in ords_prods_merge[\"orders_day_of_week\"]:\n",
    "    if value in (0, 1):\n",
    "        result.append(\"Busiest days\")\n",
    "    elif value in (3, 4):\n",
    "        result.append(\"Slowest days\")\n",
    "    else:\n",
    "        result.append(\"Regularly day\")"
   ]
  },
  {
   "cell_type": "code",
   "execution_count": 28,
   "id": "bf9f0eb4",
   "metadata": {},
   "outputs": [],
   "source": [
    "# Creating the new column for the dataframe\n",
    "ords_prods_merge['Busiest Days']=result"
   ]
  },
  {
   "cell_type": "code",
   "execution_count": 29,
   "id": "ece6d292",
   "metadata": {},
   "outputs": [
    {
     "data": {
      "text/html": [
       "<div>\n",
       "<style scoped>\n",
       "    .dataframe tbody tr th:only-of-type {\n",
       "        vertical-align: middle;\n",
       "    }\n",
       "\n",
       "    .dataframe tbody tr th {\n",
       "        vertical-align: top;\n",
       "    }\n",
       "\n",
       "    .dataframe thead th {\n",
       "        text-align: right;\n",
       "    }\n",
       "</style>\n",
       "<table border=\"1\" class=\"dataframe\">\n",
       "  <thead>\n",
       "    <tr style=\"text-align: right;\">\n",
       "      <th></th>\n",
       "      <th>order_id</th>\n",
       "      <th>user_id</th>\n",
       "      <th>order_number</th>\n",
       "      <th>orders_day_of_week</th>\n",
       "      <th>time_of_day</th>\n",
       "      <th>days_since_previous_order</th>\n",
       "      <th>product_id</th>\n",
       "      <th>add_to_cart_order</th>\n",
       "      <th>reordered</th>\n",
       "      <th>product_name</th>\n",
       "      <th>aisle_id</th>\n",
       "      <th>department_id</th>\n",
       "      <th>prices</th>\n",
       "      <th>_merge</th>\n",
       "      <th>price_range_loc</th>\n",
       "      <th>busiest_day</th>\n",
       "      <th>Busiest Days</th>\n",
       "    </tr>\n",
       "  </thead>\n",
       "  <tbody>\n",
       "    <tr>\n",
       "      <th>0</th>\n",
       "      <td>2539329</td>\n",
       "      <td>1</td>\n",
       "      <td>1</td>\n",
       "      <td>2</td>\n",
       "      <td>8</td>\n",
       "      <td>NaN</td>\n",
       "      <td>196</td>\n",
       "      <td>1</td>\n",
       "      <td>0</td>\n",
       "      <td>Soda</td>\n",
       "      <td>77</td>\n",
       "      <td>7</td>\n",
       "      <td>9.0</td>\n",
       "      <td>both</td>\n",
       "      <td>Mid-range product</td>\n",
       "      <td>Regularly busy</td>\n",
       "      <td>Regularly day</td>\n",
       "    </tr>\n",
       "    <tr>\n",
       "      <th>1</th>\n",
       "      <td>2398795</td>\n",
       "      <td>1</td>\n",
       "      <td>2</td>\n",
       "      <td>3</td>\n",
       "      <td>7</td>\n",
       "      <td>15.0</td>\n",
       "      <td>196</td>\n",
       "      <td>1</td>\n",
       "      <td>1</td>\n",
       "      <td>Soda</td>\n",
       "      <td>77</td>\n",
       "      <td>7</td>\n",
       "      <td>9.0</td>\n",
       "      <td>both</td>\n",
       "      <td>Mid-range product</td>\n",
       "      <td>Regularly busy</td>\n",
       "      <td>Slowest days</td>\n",
       "    </tr>\n",
       "    <tr>\n",
       "      <th>2</th>\n",
       "      <td>473747</td>\n",
       "      <td>1</td>\n",
       "      <td>3</td>\n",
       "      <td>3</td>\n",
       "      <td>12</td>\n",
       "      <td>21.0</td>\n",
       "      <td>196</td>\n",
       "      <td>1</td>\n",
       "      <td>1</td>\n",
       "      <td>Soda</td>\n",
       "      <td>77</td>\n",
       "      <td>7</td>\n",
       "      <td>9.0</td>\n",
       "      <td>both</td>\n",
       "      <td>Mid-range product</td>\n",
       "      <td>Regularly busy</td>\n",
       "      <td>Slowest days</td>\n",
       "    </tr>\n",
       "    <tr>\n",
       "      <th>3</th>\n",
       "      <td>2254736</td>\n",
       "      <td>1</td>\n",
       "      <td>4</td>\n",
       "      <td>4</td>\n",
       "      <td>7</td>\n",
       "      <td>29.0</td>\n",
       "      <td>196</td>\n",
       "      <td>1</td>\n",
       "      <td>1</td>\n",
       "      <td>Soda</td>\n",
       "      <td>77</td>\n",
       "      <td>7</td>\n",
       "      <td>9.0</td>\n",
       "      <td>both</td>\n",
       "      <td>Mid-range product</td>\n",
       "      <td>Least busy</td>\n",
       "      <td>Slowest days</td>\n",
       "    </tr>\n",
       "    <tr>\n",
       "      <th>4</th>\n",
       "      <td>431534</td>\n",
       "      <td>1</td>\n",
       "      <td>5</td>\n",
       "      <td>4</td>\n",
       "      <td>15</td>\n",
       "      <td>28.0</td>\n",
       "      <td>196</td>\n",
       "      <td>1</td>\n",
       "      <td>1</td>\n",
       "      <td>Soda</td>\n",
       "      <td>77</td>\n",
       "      <td>7</td>\n",
       "      <td>9.0</td>\n",
       "      <td>both</td>\n",
       "      <td>Mid-range product</td>\n",
       "      <td>Least busy</td>\n",
       "      <td>Slowest days</td>\n",
       "    </tr>\n",
       "  </tbody>\n",
       "</table>\n",
       "</div>"
      ],
      "text/plain": [
       "   order_id  user_id  order_number  orders_day_of_week  time_of_day  \\\n",
       "0   2539329        1             1                   2            8   \n",
       "1   2398795        1             2                   3            7   \n",
       "2    473747        1             3                   3           12   \n",
       "3   2254736        1             4                   4            7   \n",
       "4    431534        1             5                   4           15   \n",
       "\n",
       "   days_since_previous_order  product_id  add_to_cart_order  reordered  \\\n",
       "0                        NaN         196                  1          0   \n",
       "1                       15.0         196                  1          1   \n",
       "2                       21.0         196                  1          1   \n",
       "3                       29.0         196                  1          1   \n",
       "4                       28.0         196                  1          1   \n",
       "\n",
       "  product_name  aisle_id  department_id  prices _merge    price_range_loc  \\\n",
       "0         Soda        77              7     9.0   both  Mid-range product   \n",
       "1         Soda        77              7     9.0   both  Mid-range product   \n",
       "2         Soda        77              7     9.0   both  Mid-range product   \n",
       "3         Soda        77              7     9.0   both  Mid-range product   \n",
       "4         Soda        77              7     9.0   both  Mid-range product   \n",
       "\n",
       "      busiest_day   Busiest Days  \n",
       "0  Regularly busy  Regularly day  \n",
       "1  Regularly busy   Slowest days  \n",
       "2  Regularly busy   Slowest days  \n",
       "3      Least busy   Slowest days  \n",
       "4      Least busy   Slowest days  "
      ]
     },
     "execution_count": 29,
     "metadata": {},
     "output_type": "execute_result"
    }
   ],
   "source": [
    "# Check the dataframe\n",
    "ords_prods_merge.head()"
   ]
  },
  {
   "cell_type": "markdown",
   "id": "9fa08e6d",
   "metadata": {},
   "source": [
    "## 7.2\n",
    "### Task 3 Check the values of this new column for accuracy"
   ]
  },
  {
   "cell_type": "code",
   "execution_count": 30,
   "id": "c1b40958",
   "metadata": {},
   "outputs": [
    {
     "data": {
      "text/plain": [
       "Busiest Days\n",
       "Regularly day    12916111\n",
       "Busiest days     11864412\n",
       "Slowest days      7624336\n",
       "Name: count, dtype: int64"
      ]
     },
     "execution_count": 30,
     "metadata": {},
     "output_type": "execute_result"
    }
   ],
   "source": [
    "ords_prods_merge['Busiest Days'].value_counts(dropna = False)"
   ]
  },
  {
   "cell_type": "markdown",
   "id": "ff367d32",
   "metadata": {},
   "source": [
    "To make sure the numbers are correct:\n",
    "\n",
    "The sum of day 0 and 1 = 11864412, which is equal to the numbers of values in \"Busiest days\"\n",
    "\n",
    "The sum of day 3 and 4 = 7624336"
   ]
  },
  {
   "cell_type": "markdown",
   "id": "a94b2137",
   "metadata": {},
   "source": [
    "## 7.3\n",
    "### Task 4.  Identify the busiest hours of the day\n",
    "\n",
    "Show periods of time labeled “Most orders,” “Average orders,” and “Fewest orders\" and put this in a new column"
   ]
  },
  {
   "cell_type": "code",
   "execution_count": 31,
   "id": "cf28d06d",
   "metadata": {},
   "outputs": [
    {
     "data": {
      "text/plain": [
       "time_of_day\n",
       "10    2761760\n",
       "11    2736140\n",
       "14    2689136\n",
       "15    2662144\n",
       "13    2660954\n",
       "12    2618532\n",
       "16    2535202\n",
       "9     2454203\n",
       "17    2087654\n",
       "8     1718118\n",
       "18    1636502\n",
       "19    1258305\n",
       "20     976156\n",
       "7      891054\n",
       "21     795637\n",
       "22     634225\n",
       "23     402316\n",
       "6      290493\n",
       "0      218769\n",
       "1      115700\n",
       "5       87961\n",
       "2       69375\n",
       "4       53242\n",
       "3       51281\n",
       "Name: count, dtype: int64"
      ]
     },
     "execution_count": 31,
     "metadata": {},
     "output_type": "execute_result"
    }
   ],
   "source": [
    "# count the orders during the day\n",
    "\n",
    "ords_prods_merge['time_of_day'].value_counts()"
   ]
  },
  {
   "cell_type": "markdown",
   "id": "70fe74f5",
   "metadata": {},
   "source": [
    "Most orders are at 10, least orders are at 3, the remaining time is average orders. If devided by 3 different categories we have 8 different times of the day for each category"
   ]
  },
  {
   "cell_type": "code",
   "execution_count": 32,
   "id": "708348b5",
   "metadata": {},
   "outputs": [],
   "source": [
    "# Create for-loop if statement labeling periods of time as “Most orders,” “Average orders,” and “Fewest orders.”\n",
    "\n",
    "result_2 = []\n",
    "\n",
    "for value in ords_prods_merge[\"time_of_day\"]:\n",
    "  if value in [10, 11, 14, 15, 13, 12, 16, 9]:\n",
    "    result_2.append(\"Most orders\")\n",
    "  elif value in [23, 6, 0, 1, 5, 2, 4, 3]:\n",
    "    result_2.append(\"Fewest orders\")\n",
    "  else:\n",
    "    result_2.append(\"Average orders\")\n"
   ]
  },
  {
   "cell_type": "code",
   "execution_count": 33,
   "id": "989c3b6a",
   "metadata": {},
   "outputs": [],
   "source": [
    "# Create a new colum with the different time categories\n",
    "ords_prods_merge[\"busiest_period_of_day\"]=result_2"
   ]
  },
  {
   "cell_type": "markdown",
   "id": "2649dae6",
   "metadata": {},
   "source": [
    "## 7.5\n",
    "### Task 5. Print the frequency of the column'busiest_period_of_day'"
   ]
  },
  {
   "cell_type": "code",
   "execution_count": 34,
   "id": "3a78ebc4",
   "metadata": {},
   "outputs": [
    {
     "data": {
      "text/plain": [
       "busiest_period_of_day\n",
       "Most orders       21118071\n",
       "Average orders     9997651\n",
       "Fewest orders      1289137\n",
       "Name: count, dtype: int64"
      ]
     },
     "execution_count": 34,
     "metadata": {},
     "output_type": "execute_result"
    }
   ],
   "source": [
    "# Check for the frequency for the new collumn\n",
    "ords_prods_merge[\"busiest_period_of_day\"].value_counts(dropna=False)"
   ]
  },
  {
   "cell_type": "markdown",
   "id": "ca0e028a",
   "metadata": {},
   "source": [
    "# 8. Export the data as a pkl data"
   ]
  },
  {
   "cell_type": "code",
   "execution_count": 35,
   "id": "8384ff83",
   "metadata": {},
   "outputs": [],
   "source": [
    "ords_prods_merge.to_pickle(os.path.join(path, '02 Data', 'Prepared Data', 'orders_products_merged_derived.pkl'))"
   ]
  },
  {
   "cell_type": "code",
   "execution_count": null,
   "id": "13746746",
   "metadata": {},
   "outputs": [],
   "source": []
  },
  {
   "cell_type": "code",
   "execution_count": null,
   "id": "b87b9f5d",
   "metadata": {},
   "outputs": [],
   "source": []
  }
 ],
 "metadata": {
  "kernelspec": {
   "display_name": "Python 3 (ipykernel)",
   "language": "python",
   "name": "python3"
  },
  "language_info": {
   "codemirror_mode": {
    "name": "ipython",
    "version": 3
   },
   "file_extension": ".py",
   "mimetype": "text/x-python",
   "name": "python",
   "nbconvert_exporter": "python",
   "pygments_lexer": "ipython3",
   "version": "3.11.5"
  }
 },
 "nbformat": 4,
 "nbformat_minor": 5
}
