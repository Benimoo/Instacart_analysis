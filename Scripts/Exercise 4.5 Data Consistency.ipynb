{
 "cells": [
  {
   "cell_type": "markdown",
   "id": "244cbc7a",
   "metadata": {},
   "source": [
    "# Content\n",
    "\n",
    "* 1. Import Libraries\n",
    "\n",
    "* 2. Create Dataframe\n",
    "\n",
    "* 3. Check for mixed-data type\n",
    "\n",
    "* 4. Missing Values\n",
    "    * 4.1 Find Missing Values\n",
    "    * 4.2 How to deal with Missing values?\n",
    "        * 4.2.1 Create subset with missing values\n",
    "        * 4.2.2 Impute values\n",
    "        * 4.2.3 Droppong all missing Values\n",
    "        \n",
    "* 5. Duplicates\n",
    "    * 5.1 Finding Duplicats\n",
    "    * 5.2 How to deal with Duplicates?\n",
    "        * 5.2.1 Delete Duplicates\n",
    "        \n",
    "* 6. Exercise 4.5\n",
    "    * 6.1 Check for Duplicates\n",
    "    * 6.2 Check for data types\n",
    "    \n",
    "* 7. Exporting Data\n",
    "\n",
    "\n",
    "\n"
   ]
  },
  {
   "cell_type": "markdown",
   "id": "ccecaeb6",
   "metadata": {},
   "source": [
    "# 1. Import Libraries"
   ]
  },
  {
   "cell_type": "code",
   "execution_count": 1,
   "id": "f8fe581c",
   "metadata": {},
   "outputs": [],
   "source": [
    "# import libraries\n",
    "import pandas as pd\n",
    "import numpy as np\n",
    "import os"
   ]
  },
  {
   "cell_type": "markdown",
   "id": "ad8cbb5e",
   "metadata": {},
   "source": [
    "# 2. Create Dataframe"
   ]
  },
  {
   "cell_type": "code",
   "execution_count": 2,
   "id": "c48ffb97",
   "metadata": {},
   "outputs": [],
   "source": [
    "df_test=pd.DataFrame()"
   ]
  },
  {
   "cell_type": "code",
   "execution_count": 3,
   "id": "840ede5c",
   "metadata": {},
   "outputs": [],
   "source": [
    "df_test['mixed']=['a','b',1,True]"
   ]
  },
  {
   "cell_type": "markdown",
   "id": "e8b56e47",
   "metadata": {},
   "source": [
    "# 3. Check for mixed-data type"
   ]
  },
  {
   "cell_type": "code",
   "execution_count": 4,
   "id": "8349b67c",
   "metadata": {},
   "outputs": [
    {
     "name": "stdout",
     "output_type": "stream",
     "text": [
      "mixed\n"
     ]
    },
    {
     "name": "stderr",
     "output_type": "stream",
     "text": [
      "C:\\Users\\binth\\AppData\\Local\\Temp\\ipykernel_36544\\134491531.py:3: FutureWarning: DataFrame.applymap has been deprecated. Use DataFrame.map instead.\n",
      "  weird = (df_test[[col]].applymap(type) != df_test[[col]].iloc[0].apply(type)).any(axis = 1)\n"
     ]
    }
   ],
   "source": [
    "## Command to check for mixed data type in out dataframe\n",
    "for col in df_test.columns.tolist():\n",
    "  weird = (df_test[[col]].applymap(type) != df_test[[col]].iloc[0].apply(type)).any(axis = 1)\n",
    "  if len (df_test[weird]) > 0:\n",
    "    print (col)"
   ]
  },
  {
   "cell_type": "markdown",
   "id": "fa5717ad",
   "metadata": {},
   "source": [
    " The Output says \"mixed\", which means this column has a mixed-data type"
   ]
  },
  {
   "cell_type": "code",
   "execution_count": 5,
   "id": "4a85ba4c",
   "metadata": {},
   "outputs": [],
   "source": [
    "##create another dataframe\n",
    "df_test2 =pd.DataFrame()\n",
    "df_test2 = pd.DataFrame(\n",
    "         {\"a\" : [1 ,2, 3],\n",
    "          \"b\" : [7, 8, 'a'],\n",
    "          \"c\" : [False, True, 'a']})"
   ]
  },
  {
   "cell_type": "code",
   "execution_count": 6,
   "id": "b38d922b",
   "metadata": {},
   "outputs": [
    {
     "data": {
      "text/html": [
       "<div>\n",
       "<style scoped>\n",
       "    .dataframe tbody tr th:only-of-type {\n",
       "        vertical-align: middle;\n",
       "    }\n",
       "\n",
       "    .dataframe tbody tr th {\n",
       "        vertical-align: top;\n",
       "    }\n",
       "\n",
       "    .dataframe thead th {\n",
       "        text-align: right;\n",
       "    }\n",
       "</style>\n",
       "<table border=\"1\" class=\"dataframe\">\n",
       "  <thead>\n",
       "    <tr style=\"text-align: right;\">\n",
       "      <th></th>\n",
       "      <th>a</th>\n",
       "      <th>b</th>\n",
       "      <th>c</th>\n",
       "    </tr>\n",
       "  </thead>\n",
       "  <tbody>\n",
       "    <tr>\n",
       "      <th>0</th>\n",
       "      <td>1</td>\n",
       "      <td>7</td>\n",
       "      <td>False</td>\n",
       "    </tr>\n",
       "    <tr>\n",
       "      <th>1</th>\n",
       "      <td>2</td>\n",
       "      <td>8</td>\n",
       "      <td>True</td>\n",
       "    </tr>\n",
       "    <tr>\n",
       "      <th>2</th>\n",
       "      <td>3</td>\n",
       "      <td>a</td>\n",
       "      <td>a</td>\n",
       "    </tr>\n",
       "  </tbody>\n",
       "</table>\n",
       "</div>"
      ],
      "text/plain": [
       "   a  b      c\n",
       "0  1  7  False\n",
       "1  2  8   True\n",
       "2  3  a      a"
      ]
     },
     "execution_count": 6,
     "metadata": {},
     "output_type": "execute_result"
    }
   ],
   "source": [
    "df_test2"
   ]
  },
  {
   "cell_type": "code",
   "execution_count": 7,
   "id": "e20001eb",
   "metadata": {},
   "outputs": [
    {
     "name": "stdout",
     "output_type": "stream",
     "text": [
      "b\n",
      "c\n"
     ]
    },
    {
     "name": "stderr",
     "output_type": "stream",
     "text": [
      "C:\\Users\\binth\\AppData\\Local\\Temp\\ipykernel_36544\\2849338216.py:2: FutureWarning: DataFrame.applymap has been deprecated. Use DataFrame.map instead.\n",
      "  weird = (df_test2[[col]].applymap(type) != df_test2[[col]].iloc[0].apply(type)).any(axis = 1)\n",
      "C:\\Users\\binth\\AppData\\Local\\Temp\\ipykernel_36544\\2849338216.py:2: FutureWarning: DataFrame.applymap has been deprecated. Use DataFrame.map instead.\n",
      "  weird = (df_test2[[col]].applymap(type) != df_test2[[col]].iloc[0].apply(type)).any(axis = 1)\n",
      "C:\\Users\\binth\\AppData\\Local\\Temp\\ipykernel_36544\\2849338216.py:2: FutureWarning: DataFrame.applymap has been deprecated. Use DataFrame.map instead.\n",
      "  weird = (df_test2[[col]].applymap(type) != df_test2[[col]].iloc[0].apply(type)).any(axis = 1)\n"
     ]
    }
   ],
   "source": [
    "for col in df_test2.columns.tolist():\n",
    "  weird = (df_test2[[col]].applymap(type) != df_test2[[col]].iloc[0].apply(type)).any(axis = 1)\n",
    "  if len (df_test2[weird]) > 0:\n",
    "    print (col)"
   ]
  },
  {
   "cell_type": "markdown",
   "id": "dfce28d3",
   "metadata": {},
   "source": [
    "# 4. Missing values"
   ]
  },
  {
   "cell_type": "markdown",
   "id": "ab822328",
   "metadata": {},
   "source": [
    "Importing the datasets we need"
   ]
  },
  {
   "cell_type": "code",
   "execution_count": 2,
   "id": "bed89d8b",
   "metadata": {},
   "outputs": [],
   "source": [
    "## import first our dataframe\n",
    "#import original data of \"product.csv\" and prepared data of \"orders_wrangled.csv\"\n",
    "ogpath=r'C:\\Users\\binth\\Documents\\CareerFoundry\\Achievement 4 - Python\\InstaCart\\Instacart Business Analysis'"
   ]
  },
  {
   "cell_type": "code",
   "execution_count": 3,
   "id": "29b7de48",
   "metadata": {},
   "outputs": [],
   "source": [
    "## import data\n",
    "df_prods=pd.read_csv(os.path.join(ogpath,'02 Data','Original Data','products.csv'))"
   ]
  },
  {
   "cell_type": "code",
   "execution_count": 4,
   "id": "6656f304",
   "metadata": {},
   "outputs": [],
   "source": [
    "df_ords=pd.read_csv(os.path.join(ogpath,'02 Data','Prepared Data','orders_wrangled.csv'))"
   ]
  },
  {
   "cell_type": "markdown",
   "id": "34be0f59",
   "metadata": {},
   "source": [
    "## 4.1. Finding Missing values"
   ]
  },
  {
   "cell_type": "code",
   "execution_count": 11,
   "id": "d5fb7a48",
   "metadata": {},
   "outputs": [
    {
     "data": {
      "text/plain": [
       "product_id        0\n",
       "product_name     16\n",
       "aisle_id          0\n",
       "department_id     0\n",
       "prices            0\n",
       "dtype: int64"
      ]
     },
     "execution_count": 11,
     "metadata": {},
     "output_type": "execute_result"
    }
   ],
   "source": [
    "## from products.csv\n",
    "df_prods.isnull().sum()"
   ]
  },
  {
   "cell_type": "code",
   "execution_count": 12,
   "id": "5364fcac",
   "metadata": {},
   "outputs": [],
   "source": [
    "## Create a subset where missing values are located\n",
    "df_nan= df_prods[df_prods['product_name'].isnull()==True]"
   ]
  },
  {
   "cell_type": "code",
   "execution_count": 13,
   "id": "3ac3e33d",
   "metadata": {},
   "outputs": [
    {
     "data": {
      "text/html": [
       "<div>\n",
       "<style scoped>\n",
       "    .dataframe tbody tr th:only-of-type {\n",
       "        vertical-align: middle;\n",
       "    }\n",
       "\n",
       "    .dataframe tbody tr th {\n",
       "        vertical-align: top;\n",
       "    }\n",
       "\n",
       "    .dataframe thead th {\n",
       "        text-align: right;\n",
       "    }\n",
       "</style>\n",
       "<table border=\"1\" class=\"dataframe\">\n",
       "  <thead>\n",
       "    <tr style=\"text-align: right;\">\n",
       "      <th></th>\n",
       "      <th>product_id</th>\n",
       "      <th>product_name</th>\n",
       "      <th>aisle_id</th>\n",
       "      <th>department_id</th>\n",
       "      <th>prices</th>\n",
       "    </tr>\n",
       "  </thead>\n",
       "  <tbody>\n",
       "    <tr>\n",
       "      <th>33</th>\n",
       "      <td>34</td>\n",
       "      <td>NaN</td>\n",
       "      <td>121</td>\n",
       "      <td>14</td>\n",
       "      <td>12.2</td>\n",
       "    </tr>\n",
       "    <tr>\n",
       "      <th>68</th>\n",
       "      <td>69</td>\n",
       "      <td>NaN</td>\n",
       "      <td>26</td>\n",
       "      <td>7</td>\n",
       "      <td>11.8</td>\n",
       "    </tr>\n",
       "    <tr>\n",
       "      <th>115</th>\n",
       "      <td>116</td>\n",
       "      <td>NaN</td>\n",
       "      <td>93</td>\n",
       "      <td>3</td>\n",
       "      <td>10.8</td>\n",
       "    </tr>\n",
       "    <tr>\n",
       "      <th>261</th>\n",
       "      <td>262</td>\n",
       "      <td>NaN</td>\n",
       "      <td>110</td>\n",
       "      <td>13</td>\n",
       "      <td>12.1</td>\n",
       "    </tr>\n",
       "    <tr>\n",
       "      <th>525</th>\n",
       "      <td>525</td>\n",
       "      <td>NaN</td>\n",
       "      <td>109</td>\n",
       "      <td>11</td>\n",
       "      <td>1.2</td>\n",
       "    </tr>\n",
       "    <tr>\n",
       "      <th>1511</th>\n",
       "      <td>1511</td>\n",
       "      <td>NaN</td>\n",
       "      <td>84</td>\n",
       "      <td>16</td>\n",
       "      <td>14.3</td>\n",
       "    </tr>\n",
       "    <tr>\n",
       "      <th>1780</th>\n",
       "      <td>1780</td>\n",
       "      <td>NaN</td>\n",
       "      <td>126</td>\n",
       "      <td>11</td>\n",
       "      <td>12.3</td>\n",
       "    </tr>\n",
       "    <tr>\n",
       "      <th>2240</th>\n",
       "      <td>2240</td>\n",
       "      <td>NaN</td>\n",
       "      <td>52</td>\n",
       "      <td>1</td>\n",
       "      <td>14.2</td>\n",
       "    </tr>\n",
       "    <tr>\n",
       "      <th>2586</th>\n",
       "      <td>2586</td>\n",
       "      <td>NaN</td>\n",
       "      <td>104</td>\n",
       "      <td>13</td>\n",
       "      <td>12.4</td>\n",
       "    </tr>\n",
       "    <tr>\n",
       "      <th>3159</th>\n",
       "      <td>3159</td>\n",
       "      <td>NaN</td>\n",
       "      <td>126</td>\n",
       "      <td>11</td>\n",
       "      <td>13.1</td>\n",
       "    </tr>\n",
       "    <tr>\n",
       "      <th>3230</th>\n",
       "      <td>3230</td>\n",
       "      <td>NaN</td>\n",
       "      <td>120</td>\n",
       "      <td>16</td>\n",
       "      <td>14.4</td>\n",
       "    </tr>\n",
       "    <tr>\n",
       "      <th>3736</th>\n",
       "      <td>3736</td>\n",
       "      <td>NaN</td>\n",
       "      <td>41</td>\n",
       "      <td>8</td>\n",
       "      <td>14.8</td>\n",
       "    </tr>\n",
       "    <tr>\n",
       "      <th>4283</th>\n",
       "      <td>4283</td>\n",
       "      <td>NaN</td>\n",
       "      <td>77</td>\n",
       "      <td>7</td>\n",
       "      <td>14.4</td>\n",
       "    </tr>\n",
       "    <tr>\n",
       "      <th>4790</th>\n",
       "      <td>4790</td>\n",
       "      <td>NaN</td>\n",
       "      <td>91</td>\n",
       "      <td>16</td>\n",
       "      <td>14.5</td>\n",
       "    </tr>\n",
       "    <tr>\n",
       "      <th>38187</th>\n",
       "      <td>38183</td>\n",
       "      <td>NaN</td>\n",
       "      <td>39</td>\n",
       "      <td>12</td>\n",
       "      <td>20.9</td>\n",
       "    </tr>\n",
       "    <tr>\n",
       "      <th>40444</th>\n",
       "      <td>40440</td>\n",
       "      <td>NaN</td>\n",
       "      <td>120</td>\n",
       "      <td>16</td>\n",
       "      <td>14.8</td>\n",
       "    </tr>\n",
       "  </tbody>\n",
       "</table>\n",
       "</div>"
      ],
      "text/plain": [
       "       product_id product_name  aisle_id  department_id  prices\n",
       "33             34          NaN       121             14    12.2\n",
       "68             69          NaN        26              7    11.8\n",
       "115           116          NaN        93              3    10.8\n",
       "261           262          NaN       110             13    12.1\n",
       "525           525          NaN       109             11     1.2\n",
       "1511         1511          NaN        84             16    14.3\n",
       "1780         1780          NaN       126             11    12.3\n",
       "2240         2240          NaN        52              1    14.2\n",
       "2586         2586          NaN       104             13    12.4\n",
       "3159         3159          NaN       126             11    13.1\n",
       "3230         3230          NaN       120             16    14.4\n",
       "3736         3736          NaN        41              8    14.8\n",
       "4283         4283          NaN        77              7    14.4\n",
       "4790         4790          NaN        91             16    14.5\n",
       "38187       38183          NaN        39             12    20.9\n",
       "40444       40440          NaN       120             16    14.8"
      ]
     },
     "execution_count": 13,
     "metadata": {},
     "output_type": "execute_result"
    }
   ],
   "source": [
    "df_nan"
   ]
  },
  {
   "cell_type": "markdown",
   "id": "23c8a361",
   "metadata": {},
   "source": [
    "# 4.2 How to deal with missing values?"
   ]
  },
  {
   "cell_type": "markdown",
   "id": "77e10e7b",
   "metadata": {},
   "source": [
    "## 4.2.1 Create a new variable only containing missing values information"
   ]
  },
  {
   "cell_type": "markdown",
   "id": "f555eed2",
   "metadata": {},
   "source": [
    "## 4.2.2 Imputing Values"
   ]
  },
  {
   "cell_type": "code",
   "execution_count": null,
   "id": "a7aab571",
   "metadata": {},
   "outputs": [],
   "source": [
    "## When values are numeric: impute with mean values and overwrite it\n",
    "\n",
    "df['column with missings'].fillna(mean value, inplace=True)"
   ]
  },
  {
   "cell_type": "code",
   "execution_count": null,
   "id": "b38e1614",
   "metadata": {},
   "outputs": [],
   "source": [
    "## When values are numeric: impute with median values and overwrite it\n",
    "\n",
    "df['column with missings'].fillna(median value, inplace=True)"
   ]
  },
  {
   "cell_type": "code",
   "execution_count": 14,
   "id": "af4ff14d",
   "metadata": {},
   "outputs": [],
   "source": [
    "## Creating a new Dataframe without the missing values\n",
    "\n",
    "df_prods_clean = df_prods[df_prods['product_name'].isnull() == False]"
   ]
  },
  {
   "cell_type": "markdown",
   "id": "6164ae5e",
   "metadata": {},
   "source": [
    "### 4.2.3 Drop all missing values"
   ]
  },
  {
   "cell_type": "code",
   "execution_count": null,
   "id": "9e912c5e",
   "metadata": {},
   "outputs": [],
   "source": [
    "## df_prods.dropna(inplace = True)\n",
    "##df_prods.dropna(subset = [‘product_name’], inplace = True)"
   ]
  },
  {
   "cell_type": "markdown",
   "id": "06964a6c",
   "metadata": {},
   "source": [
    "# 5. Duplicates"
   ]
  },
  {
   "cell_type": "markdown",
   "id": "05888bd7",
   "metadata": {},
   "source": [
    "## 5.1 Finding duplicates"
   ]
  },
  {
   "cell_type": "code",
   "execution_count": 9,
   "id": "809d15b4",
   "metadata": {},
   "outputs": [
    {
     "data": {
      "text/plain": [
       "5"
      ]
     },
     "execution_count": 9,
     "metadata": {},
     "output_type": "execute_result"
    }
   ],
   "source": [
    "df_prods.duplicated().sum()"
   ]
  },
  {
   "cell_type": "code",
   "execution_count": 15,
   "id": "017c3115",
   "metadata": {},
   "outputs": [],
   "source": [
    "## creating a subset containing full duplicates only\n",
    "df_dups = df_prods_clean[df_prods_clean.duplicated()]"
   ]
  },
  {
   "cell_type": "code",
   "execution_count": 21,
   "id": "a00ce58a",
   "metadata": {},
   "outputs": [
    {
     "data": {
      "text/html": [
       "<div>\n",
       "<style scoped>\n",
       "    .dataframe tbody tr th:only-of-type {\n",
       "        vertical-align: middle;\n",
       "    }\n",
       "\n",
       "    .dataframe tbody tr th {\n",
       "        vertical-align: top;\n",
       "    }\n",
       "\n",
       "    .dataframe thead th {\n",
       "        text-align: right;\n",
       "    }\n",
       "</style>\n",
       "<table border=\"1\" class=\"dataframe\">\n",
       "  <thead>\n",
       "    <tr style=\"text-align: right;\">\n",
       "      <th></th>\n",
       "      <th>product_id</th>\n",
       "      <th>product_name</th>\n",
       "      <th>aisle_id</th>\n",
       "      <th>department_id</th>\n",
       "      <th>prices</th>\n",
       "    </tr>\n",
       "  </thead>\n",
       "  <tbody>\n",
       "    <tr>\n",
       "      <th>462</th>\n",
       "      <td>462</td>\n",
       "      <td>Fiber 4g Gummy Dietary Supplement</td>\n",
       "      <td>70</td>\n",
       "      <td>11</td>\n",
       "      <td>4.8</td>\n",
       "    </tr>\n",
       "    <tr>\n",
       "      <th>18459</th>\n",
       "      <td>18458</td>\n",
       "      <td>Ranger IPA</td>\n",
       "      <td>27</td>\n",
       "      <td>5</td>\n",
       "      <td>9.2</td>\n",
       "    </tr>\n",
       "    <tr>\n",
       "      <th>26810</th>\n",
       "      <td>26808</td>\n",
       "      <td>Black House Coffee Roasty Stout Beer</td>\n",
       "      <td>27</td>\n",
       "      <td>5</td>\n",
       "      <td>13.4</td>\n",
       "    </tr>\n",
       "    <tr>\n",
       "      <th>35309</th>\n",
       "      <td>35306</td>\n",
       "      <td>Gluten Free Organic Peanut Butter &amp; Chocolate ...</td>\n",
       "      <td>121</td>\n",
       "      <td>14</td>\n",
       "      <td>6.8</td>\n",
       "    </tr>\n",
       "    <tr>\n",
       "      <th>35495</th>\n",
       "      <td>35491</td>\n",
       "      <td>Adore Forever Body Wash</td>\n",
       "      <td>127</td>\n",
       "      <td>11</td>\n",
       "      <td>9.9</td>\n",
       "    </tr>\n",
       "  </tbody>\n",
       "</table>\n",
       "</div>"
      ],
      "text/plain": [
       "       product_id                                       product_name  \\\n",
       "462           462                  Fiber 4g Gummy Dietary Supplement   \n",
       "18459       18458                                         Ranger IPA   \n",
       "26810       26808               Black House Coffee Roasty Stout Beer   \n",
       "35309       35306  Gluten Free Organic Peanut Butter & Chocolate ...   \n",
       "35495       35491                            Adore Forever Body Wash   \n",
       "\n",
       "       aisle_id  department_id  prices  \n",
       "462          70             11     4.8  \n",
       "18459        27              5     9.2  \n",
       "26810        27              5    13.4  \n",
       "35309       121             14     6.8  \n",
       "35495       127             11     9.9  "
      ]
     },
     "execution_count": 21,
     "metadata": {},
     "output_type": "execute_result"
    }
   ],
   "source": [
    "df_dups"
   ]
  },
  {
   "cell_type": "markdown",
   "id": "fe672ea1",
   "metadata": {},
   "source": [
    "## 5.2 How to proceed with duplicates?"
   ]
  },
  {
   "cell_type": "markdown",
   "id": "42178977",
   "metadata": {},
   "source": [
    "# 5.2.1 Delete Duplicates"
   ]
  },
  {
   "cell_type": "code",
   "execution_count": 16,
   "id": "454c59a5",
   "metadata": {},
   "outputs": [],
   "source": [
    "# creating a dataframe where all duplicated is dropped\n",
    "df_prods_clean_no_dups = df_prods_clean.drop_duplicates()"
   ]
  },
  {
   "cell_type": "markdown",
   "id": "13756762",
   "metadata": {},
   "source": [
    "### Export the data"
   ]
  },
  {
   "cell_type": "code",
   "execution_count": 17,
   "id": "0bc91ca5",
   "metadata": {},
   "outputs": [],
   "source": [
    "## Export as a new data\n",
    "df_prods_clean_no_dups.to_csv(os.path.join(ogpath,'02 Data','Prepared Data','products_checked.csv'))"
   ]
  },
  {
   "cell_type": "code",
   "execution_count": null,
   "id": "01737ec9",
   "metadata": {},
   "outputs": [],
   "source": []
  },
  {
   "cell_type": "markdown",
   "id": "12e5e5dc",
   "metadata": {},
   "source": [
    "# 6. Exercise 4.5"
   ]
  },
  {
   "cell_type": "code",
   "execution_count": 18,
   "id": "5f2d599c",
   "metadata": {},
   "outputs": [
    {
     "data": {
      "text/html": [
       "<div>\n",
       "<style scoped>\n",
       "    .dataframe tbody tr th:only-of-type {\n",
       "        vertical-align: middle;\n",
       "    }\n",
       "\n",
       "    .dataframe tbody tr th {\n",
       "        vertical-align: top;\n",
       "    }\n",
       "\n",
       "    .dataframe thead th {\n",
       "        text-align: right;\n",
       "    }\n",
       "</style>\n",
       "<table border=\"1\" class=\"dataframe\">\n",
       "  <thead>\n",
       "    <tr style=\"text-align: right;\">\n",
       "      <th></th>\n",
       "      <th>Unnamed: 0</th>\n",
       "      <th>order_id</th>\n",
       "      <th>user_id</th>\n",
       "      <th>order_number</th>\n",
       "      <th>orders_day_of_week</th>\n",
       "      <th>time_of_day</th>\n",
       "      <th>days_since_previous_order</th>\n",
       "    </tr>\n",
       "  </thead>\n",
       "  <tbody>\n",
       "    <tr>\n",
       "      <th>count</th>\n",
       "      <td>3.421083e+06</td>\n",
       "      <td>3.421083e+06</td>\n",
       "      <td>3.421083e+06</td>\n",
       "      <td>3.421083e+06</td>\n",
       "      <td>3.421083e+06</td>\n",
       "      <td>3.421083e+06</td>\n",
       "      <td>3.214874e+06</td>\n",
       "    </tr>\n",
       "    <tr>\n",
       "      <th>mean</th>\n",
       "      <td>1.710541e+06</td>\n",
       "      <td>1.710542e+06</td>\n",
       "      <td>1.029782e+05</td>\n",
       "      <td>1.715486e+01</td>\n",
       "      <td>2.776219e+00</td>\n",
       "      <td>1.345202e+01</td>\n",
       "      <td>1.111484e+01</td>\n",
       "    </tr>\n",
       "    <tr>\n",
       "      <th>std</th>\n",
       "      <td>9.875817e+05</td>\n",
       "      <td>9.875817e+05</td>\n",
       "      <td>5.953372e+04</td>\n",
       "      <td>1.773316e+01</td>\n",
       "      <td>2.046829e+00</td>\n",
       "      <td>4.226088e+00</td>\n",
       "      <td>9.206737e+00</td>\n",
       "    </tr>\n",
       "    <tr>\n",
       "      <th>min</th>\n",
       "      <td>0.000000e+00</td>\n",
       "      <td>1.000000e+00</td>\n",
       "      <td>1.000000e+00</td>\n",
       "      <td>1.000000e+00</td>\n",
       "      <td>0.000000e+00</td>\n",
       "      <td>0.000000e+00</td>\n",
       "      <td>0.000000e+00</td>\n",
       "    </tr>\n",
       "    <tr>\n",
       "      <th>25%</th>\n",
       "      <td>8.552705e+05</td>\n",
       "      <td>8.552715e+05</td>\n",
       "      <td>5.139400e+04</td>\n",
       "      <td>5.000000e+00</td>\n",
       "      <td>1.000000e+00</td>\n",
       "      <td>1.000000e+01</td>\n",
       "      <td>4.000000e+00</td>\n",
       "    </tr>\n",
       "    <tr>\n",
       "      <th>50%</th>\n",
       "      <td>1.710541e+06</td>\n",
       "      <td>1.710542e+06</td>\n",
       "      <td>1.026890e+05</td>\n",
       "      <td>1.100000e+01</td>\n",
       "      <td>3.000000e+00</td>\n",
       "      <td>1.300000e+01</td>\n",
       "      <td>7.000000e+00</td>\n",
       "    </tr>\n",
       "    <tr>\n",
       "      <th>75%</th>\n",
       "      <td>2.565812e+06</td>\n",
       "      <td>2.565812e+06</td>\n",
       "      <td>1.543850e+05</td>\n",
       "      <td>2.300000e+01</td>\n",
       "      <td>5.000000e+00</td>\n",
       "      <td>1.600000e+01</td>\n",
       "      <td>1.500000e+01</td>\n",
       "    </tr>\n",
       "    <tr>\n",
       "      <th>max</th>\n",
       "      <td>3.421082e+06</td>\n",
       "      <td>3.421083e+06</td>\n",
       "      <td>2.062090e+05</td>\n",
       "      <td>1.000000e+02</td>\n",
       "      <td>6.000000e+00</td>\n",
       "      <td>2.300000e+01</td>\n",
       "      <td>3.000000e+01</td>\n",
       "    </tr>\n",
       "  </tbody>\n",
       "</table>\n",
       "</div>"
      ],
      "text/plain": [
       "         Unnamed: 0      order_id       user_id  order_number  \\\n",
       "count  3.421083e+06  3.421083e+06  3.421083e+06  3.421083e+06   \n",
       "mean   1.710541e+06  1.710542e+06  1.029782e+05  1.715486e+01   \n",
       "std    9.875817e+05  9.875817e+05  5.953372e+04  1.773316e+01   \n",
       "min    0.000000e+00  1.000000e+00  1.000000e+00  1.000000e+00   \n",
       "25%    8.552705e+05  8.552715e+05  5.139400e+04  5.000000e+00   \n",
       "50%    1.710541e+06  1.710542e+06  1.026890e+05  1.100000e+01   \n",
       "75%    2.565812e+06  2.565812e+06  1.543850e+05  2.300000e+01   \n",
       "max    3.421082e+06  3.421083e+06  2.062090e+05  1.000000e+02   \n",
       "\n",
       "       orders_day_of_week   time_of_day  days_since_previous_order  \n",
       "count        3.421083e+06  3.421083e+06               3.214874e+06  \n",
       "mean         2.776219e+00  1.345202e+01               1.111484e+01  \n",
       "std          2.046829e+00  4.226088e+00               9.206737e+00  \n",
       "min          0.000000e+00  0.000000e+00               0.000000e+00  \n",
       "25%          1.000000e+00  1.000000e+01               4.000000e+00  \n",
       "50%          3.000000e+00  1.300000e+01               7.000000e+00  \n",
       "75%          5.000000e+00  1.600000e+01               1.500000e+01  \n",
       "max          6.000000e+00  2.300000e+01               3.000000e+01  "
      ]
     },
     "execution_count": 18,
     "metadata": {},
     "output_type": "execute_result"
    }
   ],
   "source": [
    "## Run the df.describe() function on your df_ords dataframe. \n",
    "#anything about the data looks off or should be investigated further?\n",
    "df_ords.describe()"
   ]
  },
  {
   "cell_type": "markdown",
   "id": "f29cae8f",
   "metadata": {},
   "source": [
    " Anything about the data looks off or should be investigated further?\n",
    "\n",
    "Answer: Yes.\n",
    "\n",
    "Somehow, order_id and user_id are still in int64 format. It should be in str. Order_number: 25% percentile shows 5, which is higher than max. Value (1) days_since_prio_prder: min. is 0 , max. is 3 BUT 50% percentile is 7. This seems off.\n"
   ]
  },
  {
   "cell_type": "code",
   "execution_count": 28,
   "id": "a3ca131d",
   "metadata": {},
   "outputs": [
    {
     "name": "stderr",
     "output_type": "stream",
     "text": [
      "C:\\Users\\binth\\AppData\\Local\\Temp\\ipykernel_16316\\847038604.py:3: FutureWarning: DataFrame.applymap has been deprecated. Use DataFrame.map instead.\n",
      "  weird = (df_ords[[col]].applymap(type) != df_ords[[col]].iloc[0].apply(type)).any(axis = 1)\n",
      "C:\\Users\\binth\\AppData\\Local\\Temp\\ipykernel_16316\\847038604.py:3: FutureWarning: DataFrame.applymap has been deprecated. Use DataFrame.map instead.\n",
      "  weird = (df_ords[[col]].applymap(type) != df_ords[[col]].iloc[0].apply(type)).any(axis = 1)\n",
      "C:\\Users\\binth\\AppData\\Local\\Temp\\ipykernel_16316\\847038604.py:3: FutureWarning: DataFrame.applymap has been deprecated. Use DataFrame.map instead.\n",
      "  weird = (df_ords[[col]].applymap(type) != df_ords[[col]].iloc[0].apply(type)).any(axis = 1)\n",
      "C:\\Users\\binth\\AppData\\Local\\Temp\\ipykernel_16316\\847038604.py:3: FutureWarning: DataFrame.applymap has been deprecated. Use DataFrame.map instead.\n",
      "  weird = (df_ords[[col]].applymap(type) != df_ords[[col]].iloc[0].apply(type)).any(axis = 1)\n",
      "C:\\Users\\binth\\AppData\\Local\\Temp\\ipykernel_16316\\847038604.py:3: FutureWarning: DataFrame.applymap has been deprecated. Use DataFrame.map instead.\n",
      "  weird = (df_ords[[col]].applymap(type) != df_ords[[col]].iloc[0].apply(type)).any(axis = 1)\n",
      "C:\\Users\\binth\\AppData\\Local\\Temp\\ipykernel_16316\\847038604.py:3: FutureWarning: DataFrame.applymap has been deprecated. Use DataFrame.map instead.\n",
      "  weird = (df_ords[[col]].applymap(type) != df_ords[[col]].iloc[0].apply(type)).any(axis = 1)\n",
      "C:\\Users\\binth\\AppData\\Local\\Temp\\ipykernel_16316\\847038604.py:3: FutureWarning: DataFrame.applymap has been deprecated. Use DataFrame.map instead.\n",
      "  weird = (df_ords[[col]].applymap(type) != df_ords[[col]].iloc[0].apply(type)).any(axis = 1)\n"
     ]
    }
   ],
   "source": [
    "## Check for mixed-type data in your df_ords dataframe.\n",
    "for col in df_ords.columns.tolist():\n",
    "  weird = (df_ords[[col]].applymap(type) != df_ords[[col]].iloc[0].apply(type)).any(axis = 1)\n",
    "  if len (df_ords[weird]) > 0:\n",
    "    print (col)"
   ]
  },
  {
   "cell_type": "markdown",
   "id": "333d2523",
   "metadata": {},
   "source": [
    "### Result: No mixed-data founded in all columns"
   ]
  },
  {
   "cell_type": "code",
   "execution_count": 19,
   "id": "2e9d01da",
   "metadata": {},
   "outputs": [],
   "source": [
    "## Changing the data type of different columns\n",
    "df_ords['order_id']=df_ords['order_id'].astype('str')\n",
    "df_ords['user_id']=df_ords['user_id'].astype('str')"
   ]
  },
  {
   "cell_type": "code",
   "execution_count": 20,
   "id": "ead8867f",
   "metadata": {},
   "outputs": [
    {
     "data": {
      "text/plain": [
       "Unnamed: 0                     int64\n",
       "order_id                      object\n",
       "user_id                       object\n",
       "order_number                   int64\n",
       "orders_day_of_week             int64\n",
       "time_of_day                    int64\n",
       "days_since_previous_order    float64\n",
       "dtype: object"
      ]
     },
     "execution_count": 20,
     "metadata": {},
     "output_type": "execute_result"
    }
   ],
   "source": [
    "df_ords.dtypes"
   ]
  },
  {
   "cell_type": "code",
   "execution_count": 21,
   "id": "01124aff",
   "metadata": {},
   "outputs": [
    {
     "data": {
      "text/plain": [
       "Unnamed: 0                        0\n",
       "order_id                          0\n",
       "user_id                           0\n",
       "order_number                      0\n",
       "orders_day_of_week                0\n",
       "time_of_day                       0\n",
       "days_since_previous_order    206209\n",
       "dtype: int64"
      ]
     },
     "execution_count": 21,
     "metadata": {},
     "output_type": "execute_result"
    }
   ],
   "source": [
    "## Check for missing values\n",
    "df_ords.isnull().sum()"
   ]
  },
  {
   "cell_type": "markdown",
   "id": "116a50c9",
   "metadata": {},
   "source": [
    "**206209 missing values are located in the column of \"days_since_prior_order\". \n",
    "This might be caused by human error in the programme or human error? I would not know why the remaining orders are complete if this process is automated by a computer**."
   ]
  },
  {
   "cell_type": "markdown",
   "id": "b5ee0b75",
   "metadata": {},
   "source": [
    "**How should we proceed with the missing values???**\n",
    "\n",
    "* Missing values of 206209 is approx. 6% of the entire observations (3421083) and could be exclude from the dataframe of df_ords. On the other hand, it is better to create a subset of NaNs and investigate it.\n",
    "\n",
    "* It seems like the number of missing number of days_since_prior_order (206209) is the same number as the user_id (from 1 to 206209). This suggest that those are customers who have only purchased 1 item sofar and not more. The missing values can therefore be left out as blanks, in case the same user_id want to purchase another time."
   ]
  },
  {
   "cell_type": "markdown",
   "id": "f2d79b3d",
   "metadata": {},
   "source": [
    "## 6.1 Run a check for duplicate values in your df_ords data"
   ]
  },
  {
   "cell_type": "code",
   "execution_count": 22,
   "id": "a84fd7e2",
   "metadata": {},
   "outputs": [],
   "source": [
    "df_dup_ords = df_ords[df_ords.duplicated()]"
   ]
  },
  {
   "cell_type": "code",
   "execution_count": 23,
   "id": "b47eba73",
   "metadata": {},
   "outputs": [
    {
     "data": {
      "text/html": [
       "<div>\n",
       "<style scoped>\n",
       "    .dataframe tbody tr th:only-of-type {\n",
       "        vertical-align: middle;\n",
       "    }\n",
       "\n",
       "    .dataframe tbody tr th {\n",
       "        vertical-align: top;\n",
       "    }\n",
       "\n",
       "    .dataframe thead th {\n",
       "        text-align: right;\n",
       "    }\n",
       "</style>\n",
       "<table border=\"1\" class=\"dataframe\">\n",
       "  <thead>\n",
       "    <tr style=\"text-align: right;\">\n",
       "      <th></th>\n",
       "      <th>Unnamed: 0</th>\n",
       "      <th>order_id</th>\n",
       "      <th>user_id</th>\n",
       "      <th>order_number</th>\n",
       "      <th>orders_day_of_week</th>\n",
       "      <th>time_of_day</th>\n",
       "      <th>days_since_previous_order</th>\n",
       "    </tr>\n",
       "  </thead>\n",
       "  <tbody>\n",
       "  </tbody>\n",
       "</table>\n",
       "</div>"
      ],
      "text/plain": [
       "Empty DataFrame\n",
       "Columns: [Unnamed: 0, order_id, user_id, order_number, orders_day_of_week, time_of_day, days_since_previous_order]\n",
       "Index: []"
      ]
     },
     "execution_count": 23,
     "metadata": {},
     "output_type": "execute_result"
    }
   ],
   "source": [
    "df_dup_ords"
   ]
  },
  {
   "cell_type": "markdown",
   "id": "d2ee1299",
   "metadata": {},
   "source": [
    "### Result: No duplicates found in all columns"
   ]
  },
  {
   "cell_type": "markdown",
   "id": "b4525753",
   "metadata": {},
   "source": [
    "## 6.2 Check for all data types again before Exporting"
   ]
  },
  {
   "cell_type": "markdown",
   "id": "ea542b2c",
   "metadata": {},
   "source": [
    "* Creating a copy of the ords. and prods dataframes. This new dataframe will contain the changed datatype for the collumns, because overwriting with .astype() did not work."
   ]
  },
  {
   "cell_type": "code",
   "execution_count": 29,
   "id": "35bc1014",
   "metadata": {},
   "outputs": [],
   "source": [
    "## Creating a copy of ords.csv\n",
    "df_ords2 = df_ords.copy()"
   ]
  },
  {
   "cell_type": "code",
   "execution_count": 30,
   "id": "1e06c203",
   "metadata": {},
   "outputs": [],
   "source": [
    "# Creating a copy of df_prods_clean_no_dups\n",
    "df_prods2 = df_prods_clean_no_dups.copy()"
   ]
  },
  {
   "cell_type": "code",
   "execution_count": 31,
   "id": "4eb9061b",
   "metadata": {},
   "outputs": [],
   "source": [
    "## Chaning data type in the new data frame\n",
    "df_ords2['order_id']=df_ords2['order_id'].astype('str')\n",
    "df_ords2['user_id']=df_ords2['user_id'].astype('str')"
   ]
  },
  {
   "cell_type": "code",
   "execution_count": 35,
   "id": "e402e4bb",
   "metadata": {},
   "outputs": [],
   "source": [
    "# changing data type in new prods dataframe\n",
    "df_prods2['product_id']=df_prods2['product_id'].astype('str')\n",
    "df_prods2['product_name']=df_prods2['product_name'].astype('str')\n",
    "df_prods2['aisle_id']=df_prods2['aisle_id'].astype('str')\n",
    "df_prods2['department_id']=df_prods2['department_id'].astype('str')"
   ]
  },
  {
   "cell_type": "code",
   "execution_count": 36,
   "id": "d9f767a9",
   "metadata": {},
   "outputs": [
    {
     "data": {
      "text/plain": [
       "product_id        object\n",
       "product_name      object\n",
       "aisle_id          object\n",
       "department_id     object\n",
       "prices           float64\n",
       "dtype: object"
      ]
     },
     "execution_count": 36,
     "metadata": {},
     "output_type": "execute_result"
    }
   ],
   "source": [
    "df_prods2.dtypes"
   ]
  },
  {
   "cell_type": "code",
   "execution_count": 38,
   "id": "2bce39c0",
   "metadata": {},
   "outputs": [
    {
     "data": {
      "text/plain": [
       "Unnamed: 0                     int64\n",
       "order_id                      object\n",
       "user_id                       object\n",
       "order_number                   int64\n",
       "orders_day_of_week             int64\n",
       "time_of_day                    int64\n",
       "days_since_previous_order    float64\n",
       "dtype: object"
      ]
     },
     "execution_count": 38,
     "metadata": {},
     "output_type": "execute_result"
    }
   ],
   "source": [
    "df_ords2.dtypes"
   ]
  },
  {
   "cell_type": "code",
   "execution_count": 39,
   "id": "2598f7a9",
   "metadata": {},
   "outputs": [
    {
     "data": {
      "text/plain": [
       "product_id        object\n",
       "product_name      object\n",
       "aisle_id          object\n",
       "department_id     object\n",
       "prices           float64\n",
       "dtype: object"
      ]
     },
     "execution_count": 39,
     "metadata": {},
     "output_type": "execute_result"
    }
   ],
   "source": [
    "df_prods2.dtypes"
   ]
  },
  {
   "cell_type": "markdown",
   "id": "f1f65129",
   "metadata": {},
   "source": [
    "# 7. Exporting the data"
   ]
  },
  {
   "cell_type": "code",
   "execution_count": 45,
   "id": "529386fb",
   "metadata": {},
   "outputs": [
    {
     "ename": "TypeError",
     "evalue": "NDFrame.to_csv() got an unexpected keyword argument 'index_col'",
     "output_type": "error",
     "traceback": [
      "\u001b[1;31m---------------------------------------------------------------------------\u001b[0m",
      "\u001b[1;31mTypeError\u001b[0m                                 Traceback (most recent call last)",
      "Cell \u001b[1;32mIn[45], line 2\u001b[0m\n\u001b[0;32m      1\u001b[0m \u001b[38;5;66;03m## Export as a new data in the Prepared Data folder\u001b[39;00m\n\u001b[1;32m----> 2\u001b[0m df_ords2\u001b[38;5;241m.\u001b[39mto_csv(os\u001b[38;5;241m.\u001b[39mpath\u001b[38;5;241m.\u001b[39mjoin(ogpath,\u001b[38;5;124m'\u001b[39m\u001b[38;5;124m02 Data\u001b[39m\u001b[38;5;124m'\u001b[39m,\u001b[38;5;124m'\u001b[39m\u001b[38;5;124mPrepared Data\u001b[39m\u001b[38;5;124m'\u001b[39m,\u001b[38;5;124m'\u001b[39m\u001b[38;5;124morders_checked.csv\u001b[39m\u001b[38;5;124m'\u001b[39m),index_col\u001b[38;5;241m=\u001b[39m\u001b[38;5;28;01mFalse\u001b[39;00m)\n",
      "\u001b[1;31mTypeError\u001b[0m: NDFrame.to_csv() got an unexpected keyword argument 'index_col'"
     ]
    }
   ],
   "source": [
    "## Export as a new data in the Prepared Data folder\n",
    "df_ords2.to_csv(os.path.join(ogpath,'02 Data','Prepared Data','orders_checked.csv'))"
   ]
  },
  {
   "cell_type": "code",
   "execution_count": 46,
   "id": "6dae4dfb",
   "metadata": {},
   "outputs": [
    {
     "ename": "TypeError",
     "evalue": "NDFrame.to_csv() got an unexpected keyword argument 'index_col'",
     "output_type": "error",
     "traceback": [
      "\u001b[1;31m---------------------------------------------------------------------------\u001b[0m",
      "\u001b[1;31mTypeError\u001b[0m                                 Traceback (most recent call last)",
      "Cell \u001b[1;32mIn[46], line 1\u001b[0m\n\u001b[1;32m----> 1\u001b[0m df_prods2\u001b[38;5;241m.\u001b[39mto_csv(os\u001b[38;5;241m.\u001b[39mpath\u001b[38;5;241m.\u001b[39mjoin(ogpath,\u001b[38;5;124m'\u001b[39m\u001b[38;5;124m02 Data\u001b[39m\u001b[38;5;124m'\u001b[39m,\u001b[38;5;124m'\u001b[39m\u001b[38;5;124mPrepared Data\u001b[39m\u001b[38;5;124m'\u001b[39m,\u001b[38;5;124m'\u001b[39m\u001b[38;5;124mproducts_checked.csv\u001b[39m\u001b[38;5;124m'\u001b[39m),index_col\u001b[38;5;241m=\u001b[39m\u001b[38;5;28;01mFalse\u001b[39;00m)\n",
      "\u001b[1;31mTypeError\u001b[0m: NDFrame.to_csv() got an unexpected keyword argument 'index_col'"
     ]
    }
   ],
   "source": [
    "df_prods2.to_csv(os.path.join(ogpath,'02 Data','Prepared Data','products_checked.csv'))"
   ]
  }
 ],
 "metadata": {
  "kernelspec": {
   "display_name": "Python 3 (ipykernel)",
   "language": "python",
   "name": "python3"
  },
  "language_info": {
   "codemirror_mode": {
    "name": "ipython",
    "version": 3
   },
   "file_extension": ".py",
   "mimetype": "text/x-python",
   "name": "python",
   "nbconvert_exporter": "python",
   "pygments_lexer": "ipython3",
   "version": "3.11.5"
  }
 },
 "nbformat": 4,
 "nbformat_minor": 5
}
