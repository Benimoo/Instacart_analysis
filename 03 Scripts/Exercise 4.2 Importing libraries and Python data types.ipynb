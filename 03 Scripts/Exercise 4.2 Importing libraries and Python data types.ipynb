{
 "cells": [
  {
   "cell_type": "markdown",
   "id": "3fc2e4ad",
   "metadata": {},
   "source": [
    "# Content\n",
    "\n",
    "* 1. Importing Libraries\n",
    "\n",
    "* 2. Working with Data Types"
   ]
  },
  {
   "cell_type": "markdown",
   "id": "0c9d06f7",
   "metadata": {},
   "source": [
    "# 1. Importing libraries"
   ]
  },
  {
   "cell_type": "code",
   "execution_count": null,
   "id": "c965b874",
   "metadata": {},
   "outputs": [],
   "source": [
    "# Importing libraries\n",
    "import pandas as pd\n",
    "import numpy as np\n",
    "import os"
   ]
  },
  {
   "cell_type": "markdown",
   "id": "d5d15712",
   "metadata": {},
   "source": [
    "# 2. Working with Data types"
   ]
  },
  {
   "cell_type": "code",
   "execution_count": 1,
   "id": "e33c1553",
   "metadata": {},
   "outputs": [],
   "source": [
    "# creating variables\n",
    "\n",
    "a=25\n",
    "b=50\n",
    "c=1"
   ]
  },
  {
   "cell_type": "code",
   "execution_count": 2,
   "id": "42b682a6",
   "metadata": {},
   "outputs": [
    {
     "data": {
      "text/plain": [
       "100"
      ]
     },
     "execution_count": 2,
     "metadata": {},
     "output_type": "execute_result"
    }
   ],
   "source": [
    "# calculation with variable\n",
    "\n",
    "a*4"
   ]
  },
  {
   "cell_type": "code",
   "execution_count": 3,
   "id": "d3a05265",
   "metadata": {},
   "outputs": [
    {
     "data": {
      "text/plain": [
       "100"
      ]
     },
     "execution_count": 3,
     "metadata": {},
     "output_type": "execute_result"
    }
   ],
   "source": [
    "b+b"
   ]
  },
  {
   "cell_type": "code",
   "execution_count": 7,
   "id": "4beec86c",
   "metadata": {},
   "outputs": [
    {
     "data": {
      "text/plain": [
       "100"
      ]
     },
     "execution_count": 7,
     "metadata": {},
     "output_type": "execute_result"
    }
   ],
   "source": [
    "b+2*a"
   ]
  },
  {
   "cell_type": "code",
   "execution_count": 8,
   "id": "d9769213",
   "metadata": {},
   "outputs": [],
   "source": [
    "d= 3.148\n",
    "e=5.6789"
   ]
  },
  {
   "cell_type": "code",
   "execution_count": 9,
   "id": "370d9d06",
   "metadata": {},
   "outputs": [
    {
     "data": {
      "text/plain": [
       "0.5543327052774305"
      ]
     },
     "execution_count": 9,
     "metadata": {},
     "output_type": "execute_result"
    }
   ],
   "source": [
    "d/e"
   ]
  },
  {
   "cell_type": "code",
   "execution_count": 10,
   "id": "1057f92c",
   "metadata": {},
   "outputs": [],
   "source": [
    "# assing string values to variables\n",
    "\n",
    "f=\"rug\"\n",
    "g=\"by\""
   ]
  },
  {
   "cell_type": "code",
   "execution_count": 11,
   "id": "d5cd3a68",
   "metadata": {},
   "outputs": [
    {
     "data": {
      "text/plain": [
       "'rugby'"
      ]
     },
     "execution_count": 11,
     "metadata": {},
     "output_type": "execute_result"
    }
   ],
   "source": [
    "f+g"
   ]
  },
  {
   "cell_type": "code",
   "execution_count": 14,
   "id": "04ba16cb",
   "metadata": {},
   "outputs": [],
   "source": [
    "h=\"Most people call me Phongsathorn. \"\n",
    "i=\"But you can call me Ben\""
   ]
  },
  {
   "cell_type": "code",
   "execution_count": 15,
   "id": "ad7ce62a",
   "metadata": {},
   "outputs": [
    {
     "data": {
      "text/plain": [
       "'Most people call me Phongsathorn. But you can call me Ben'"
      ]
     },
     "execution_count": 15,
     "metadata": {},
     "output_type": "execute_result"
    }
   ],
   "source": [
    "h+i"
   ]
  },
  {
   "cell_type": "code",
   "execution_count": 16,
   "id": "50bcf2ab",
   "metadata": {},
   "outputs": [
    {
     "data": {
      "text/plain": [
       "'i should go ealy to bedi should go ealy to bedi should go ealy to bedi should go ealy to bedi should go ealy to bedi should go ealy to bedi should go ealy to bedi should go ealy to bedi should go ealy to bedi should go ealy to bedi should go ealy to bedi should go ealy to bedi should go ealy to bedi should go ealy to bedi should go ealy to bedi should go ealy to bedi should go ealy to bedi should go ealy to bedi should go ealy to bedi should go ealy to bedi should go ealy to bedi should go ealy to bedi should go ealy to bedi should go ealy to bedi should go ealy to bedi should go ealy to bedi should go ealy to bedi should go ealy to bedi should go ealy to bedi should go ealy to bedi should go ealy to bedi should go ealy to bedi should go ealy to bedi should go ealy to bedi should go ealy to bedi should go ealy to bedi should go ealy to bedi should go ealy to bedi should go ealy to bedi should go ealy to bedi should go ealy to bedi should go ealy to bedi should go ealy to bedi should go ealy to bedi should go ealy to bedi should go ealy to bedi should go ealy to bedi should go ealy to bedi should go ealy to bedi should go ealy to bedi should go ealy to bedi should go ealy to bedi should go ealy to bedi should go ealy to bedi should go ealy to bedi should go ealy to bedi should go ealy to bedi should go ealy to bedi should go ealy to bedi should go ealy to bedi should go ealy to bedi should go ealy to bedi should go ealy to bedi should go ealy to bedi should go ealy to bedi should go ealy to bedi should go ealy to bedi should go ealy to bedi should go ealy to bedi should go ealy to bedi should go ealy to bedi should go ealy to bedi should go ealy to bedi should go ealy to bedi should go ealy to bedi should go ealy to bedi should go ealy to bedi should go ealy to bedi should go ealy to bedi should go ealy to bedi should go ealy to bedi should go ealy to bedi should go ealy to bedi should go ealy to bedi should go ealy to bedi should go ealy to bedi should go ealy to bedi should go ealy to bedi should go ealy to bedi should go ealy to bedi should go ealy to bedi should go ealy to bedi should go ealy to bedi should go ealy to bedi should go ealy to bedi should go ealy to bedi should go ealy to bedi should go ealy to bedi should go ealy to bedi should go ealy to bed'"
      ]
     },
     "execution_count": 16,
     "metadata": {},
     "output_type": "execute_result"
    }
   ],
   "source": [
    "## BONUS TASK\n",
    "\"i should go ealy to bed\"*100"
   ]
  }
 ],
 "metadata": {
  "kernelspec": {
   "display_name": "Python 3 (ipykernel)",
   "language": "python",
   "name": "python3"
  },
  "language_info": {
   "codemirror_mode": {
    "name": "ipython",
    "version": 3
   },
   "file_extension": ".py",
   "mimetype": "text/x-python",
   "name": "python",
   "nbconvert_exporter": "python",
   "pygments_lexer": "ipython3",
   "version": "3.11.5"
  }
 },
 "nbformat": 4,
 "nbformat_minor": 5
}
